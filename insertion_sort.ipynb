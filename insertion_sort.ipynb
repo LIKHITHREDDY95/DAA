{
  "nbformat": 4,
  "nbformat_minor": 0,
  "metadata": {
    "colab": {
      "provenance": [],
      "history_visible": true,
      "authorship_tag": "ABX9TyOm70HCFt913RSV9d7/eU36",
      "include_colab_link": true
    },
    "kernelspec": {
      "name": "python3",
      "display_name": "Python 3"
    },
    "language_info": {
      "name": "python"
    }
  },
  "cells": [
    {
      "cell_type": "markdown",
      "metadata": {
        "id": "view-in-github",
        "colab_type": "text"
      },
      "source": [
        "<a href=\"https://colab.research.google.com/github/LIKHITHREDDY95/DAA/blob/main/insertion_sort.ipynb\" target=\"_parent\"><img src=\"https://colab.research.google.com/assets/colab-badge.svg\" alt=\"Open In Colab\"/></a>"
      ]
    },
    {
      "cell_type": "code",
      "execution_count": 4,
      "metadata": {
        "colab": {
          "base_uri": "https://localhost:8080/"
        },
        "id": "jZYtLwt3MZsB",
        "outputId": "6aac62cf-d3ee-4c48-e187-293f1c3f5124"
      },
      "outputs": [
        {
          "output_type": "stream",
          "name": "stdout",
          "text": [
            "Unsorted sequence: [-7689, 2435, 23, 0, -8734, 12.532, 0.678289, -0.837893, -34.764, 132409248, 12309, 0, 9894, -0.83748, 0.9274824, 12.234]\n",
            "Sorted sequence: [-8734, -7689, -34.764, -0.837893, -0.83748, 0, 0, 0.678289, 0.9274824, 12.234, 12.532, 23, 2435, 9894, 12309, 132409248]\n"
          ]
        }
      ],
      "source": [
        "def insertion_sort(data_sequence):\n",
        "    seq_length = len(data_sequence)\n",
        "    sort_index = 1\n",
        "\n",
        "    while sort_index < seq_length:\n",
        "        value = data_sequence[sort_index]\n",
        "        shift_index = sort_index - 1\n",
        "\n",
        "        while True:\n",
        "            if shift_index < 0 or data_sequence[shift_index] <= value:\n",
        "                break\n",
        "\n",
        "            data_sequence[shift_index + 1] = data_sequence[shift_index]\n",
        "            shift_index -= 1\n",
        "\n",
        "        data_sequence[shift_index + 1] = value\n",
        "\n",
        "        sort_index += 1\n",
        "\n",
        "    return data_sequence\n",
        "\n",
        "\n",
        "if __name__ == \"__main__\":\n",
        "    unsorted_sequence = [-7689 , 2435 , 23 , 0 , -8734 , 12.532 , 0.678289 , -0.837893 , -34.764 , 132409248 , 12309 , 0 , 9894 , -0.83748 , 0.9274824 , 12.234]\n",
        "    print(\"Unsorted sequence:\", unsorted_sequence)\n",
        "    sorted_sequence = insertion_sort(unsorted_sequence)\n",
        "    print(\"Sorted sequence:\", sorted_sequence)\n"
      ]
    }
  ]
}