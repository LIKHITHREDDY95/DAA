{
  "nbformat": 4,
  "nbformat_minor": 0,
  "metadata": {
    "colab": {
      "provenance": [],
      "authorship_tag": "ABX9TyP4fEFdl859/7kPiv5QbOg+",
      "include_colab_link": true
    },
    "kernelspec": {
      "name": "python3",
      "display_name": "Python 3"
    },
    "language_info": {
      "name": "python"
    }
  },
  "cells": [
    {
      "cell_type": "markdown",
      "metadata": {
        "id": "view-in-github",
        "colab_type": "text"
      },
      "source": [
        "<a href=\"https://colab.research.google.com/github/LIKHITHREDDY95/DAA/blob/main/Bubblesort.ipynb\" target=\"_parent\"><img src=\"https://colab.research.google.com/assets/colab-badge.svg\" alt=\"Open In Colab\"/></a>"
      ]
    },
    {
      "cell_type": "code",
      "execution_count": 2,
      "metadata": {
        "colab": {
          "base_uri": "https://localhost:8080/"
        },
        "id": "QDz2j6vsfFTf",
        "outputId": "d200e70d-eb54-4d68-823c-09961ab52331"
      },
      "outputs": [
        {
          "output_type": "stream",
          "name": "stdout",
          "text": [
            "unsorted array: [87, 0.86742, 0, -8882.45, 9129, 5, 85, -87, 687, 0.009689, -0.7348853, -9873.46335, 345, -7584, 8438, 87364.23]\n",
            "sorted array: [-9873.46335, -8882.45, -7584, -87, -0.7348853, 0, 0.009689, 0.86742, 5, 85, 87, 345, 687, 8438, 9129, 87364.23]\n"
          ]
        }
      ],
      "source": [
        "def bubble_sort(unsorted_array):\n",
        "    arr_length = len(unsorted_array)\n",
        "    outer_index = 0\n",
        "\n",
        "    while outer_index < arr_length:\n",
        "        no_of_swaps_occurred = False\n",
        "        inner_index = 0\n",
        "\n",
        "        while True:\n",
        "            if inner_index >= arr_length - outer_index - 1:\n",
        "                break\n",
        "\n",
        "            current_element = unsorted_array[inner_index]\n",
        "            next_element = unsorted_array[inner_index + 1]\n",
        "\n",
        "            if current_element > next_element:\n",
        "                unsorted_array[inner_index], unsorted_array[inner_index + 1] = next_element, current_element\n",
        "                no_of_swaps_occurred = True\n",
        "\n",
        "            inner_index += 1\n",
        "\n",
        "        if not no_of_swaps_occurred:\n",
        "            return unsorted_array\n",
        "\n",
        "        outer_index += 1\n",
        "\n",
        "    return unsorted_array\n",
        "\n",
        "\n",
        "if __name__ == \"__main__\":\n",
        "    unsorted_sequence = [87 , 0.86742 , 0 ,-8882.45 , 9129 , 5 , 85 , -87 , 687 , 0.009689 , -0.7348853 , -9873.46335 , 345 , -7584 , 8438 , 87364.23]\n",
        "    print(\"unsorted array:\", unsorted_sequence)\n",
        "    sorted_sequence = bubble_sort(unsorted_sequence)\n",
        "    print(\"sorted array:\", sorted_sequence)\n"
      ]
    }
  ]
}