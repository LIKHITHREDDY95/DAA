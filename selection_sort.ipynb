{
  "nbformat": 4,
  "nbformat_minor": 0,
  "metadata": {
    "colab": {
      "provenance": [],
      "authorship_tag": "ABX9TyOXRpiEl61TkPnykH8DEPh+",
      "include_colab_link": true
    },
    "kernelspec": {
      "name": "python3",
      "display_name": "Python 3"
    },
    "language_info": {
      "name": "python"
    }
  },
  "cells": [
    {
      "cell_type": "markdown",
      "metadata": {
        "id": "view-in-github",
        "colab_type": "text"
      },
      "source": [
        "<a href=\"https://colab.research.google.com/github/LIKHITHREDDY95/DAA/blob/main/selection_sort.ipynb\" target=\"_parent\"><img src=\"https://colab.research.google.com/assets/colab-badge.svg\" alt=\"Open In Colab\"/></a>"
      ]
    },
    {
      "cell_type": "code",
      "source": [
        "def selection_sort(sequence):\n",
        "    sequence_length = len(sequence)\n",
        "    index = 0\n",
        "\n",
        "    while True:\n",
        "        if index >= sequence_length - 1:\n",
        "            break\n",
        "\n",
        "        minimum_value = sequence[index]\n",
        "        minimum_index = index\n",
        "        inner_index = index + 1\n",
        "\n",
        "        while inner_index < sequence_length:\n",
        "            if sequence[inner_index] < minimum_value:\n",
        "                minimum_value = sequence[inner_index]\n",
        "                minimum_index = inner_index\n",
        "            inner_index += 1\n",
        "\n",
        "        if minimum_index != index:\n",
        "            sequence[index], sequence[minimum_index] = sequence[minimum_index], sequence[index]\n",
        "\n",
        "        index += 1\n",
        "\n",
        "    return sequence\n",
        "\n",
        "\n",
        "if __name__ == \"__main__\":\n",
        "    unsorted_list = [683, 1324, 34, -3, -2, -0.098, 10, 0.8828, 0.000000323 , 798 , 1000 , -898788 , 0.898734 , -0.4384934 , -9829.578 , 76722.565 , 1234 , -23.5 , -4 , -4 , -3462.4532]\n",
        "    print(\"Unsorted list:\", unsorted_list)\n",
        "    sorted_list = selection_sort(unsorted_list)\n",
        "    print(\"Sorted list:\", sorted_list)\n"
      ],
      "metadata": {
        "colab": {
          "base_uri": "https://localhost:8080/"
        },
        "id": "NKuW0JwEIIIM",
        "outputId": "a4c30d41-ed72-49f7-a0e3-03a40e48becd"
      },
      "execution_count": 8,
      "outputs": [
        {
          "output_type": "stream",
          "name": "stdout",
          "text": [
            "Unsorted list: [683, 1324, 34, -3, -2, -0.098, 10, 0.8828, 3.23e-07, 798, 1000, -898788, 0.898734, -0.4384934, -9829.578, 76722.565, 1234, -23.5, -4, -4, -3462.4532]\n",
            "Sorted list: [-898788, -9829.578, -3462.4532, -23.5, -4, -4, -3, -2, -0.4384934, -0.098, 3.23e-07, 0.8828, 0.898734, 10, 34, 683, 798, 1000, 1234, 1324, 76722.565]\n"
          ]
        }
      ]
    }
  ]
}